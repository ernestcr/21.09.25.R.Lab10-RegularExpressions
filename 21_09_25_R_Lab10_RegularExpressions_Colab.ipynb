{
  "nbformat": 4,
  "nbformat_minor": 0,
  "metadata": {
    "kernelspec": {
      "display_name": "R",
      "language": "R",
      "name": "ir"
    },
    "language_info": {
      "codemirror_mode": "r",
      "file_extension": ".r",
      "mimetype": "text/x-r-source",
      "name": "R",
      "pygments_lexer": "r",
      "version": "4.1.1"
    },
    "colab": {
      "name": "21.09.25.R.Lab10-RegularExpressions.Colab.ipynb",
      "provenance": [],
      "include_colab_link": true
    }
  },
  "cells": [
    {
      "cell_type": "markdown",
      "metadata": {
        "id": "view-in-github",
        "colab_type": "text"
      },
      "source": [
        "<a href=\"https://colab.research.google.com/github/ernestcr/21.09.25.R.Lab10-RegularExpressions/blob/main/21_09_25_R_Lab10_RegularExpressions_Colab.ipynb\" target=\"_parent\"><img src=\"https://colab.research.google.com/assets/colab-badge.svg\" alt=\"Open In Colab\"/></a>"
      ]
    },
    {
      "cell_type": "markdown",
      "metadata": {
        "id": "CNrmwiaVMxt7"
      },
      "source": [
        "<img src=\"http://cognitiveclass.ai/wp-content/uploads/2017/11/cc-logo-square.png\" width=\"150\">\n",
        "\n",
        "<h1 align=center>REGULAR EXPRESSIONS IN R</h1> \n"
      ]
    },
    {
      "cell_type": "markdown",
      "metadata": {
        "id": "DL2nyau0Mxt_"
      },
      "source": [
        "In this notebook, we will study some simple Regular Expression terms and apply them with R functions.\n"
      ]
    },
    {
      "cell_type": "markdown",
      "metadata": {
        "id": "nTts6tqUMxuA"
      },
      "source": [
        "### Table of contents\n",
        "\n",
        "-   <p><a href=\"#Loading-in-Data\">Loading in Data</a></p>\n",
        "-   <p><a href=\"#Regular-Expressions\">Regular Expressions</a></p>\n",
        "-   <p><a href=\"#Regular-Expression-in-R\">Regular Expression in R</a></p>\n",
        "    <p></p>\n",
        "    <hr>\n"
      ]
    },
    {
      "cell_type": "markdown",
      "metadata": {
        "id": "4itAkYXXMxuA"
      },
      "source": [
        "<a id=\"ref9001\"></a>\n",
        "\n",
        "# Loading in Data\n"
      ]
    },
    {
      "cell_type": "markdown",
      "metadata": {
        "id": "8bGhuBIHMxuB"
      },
      "source": [
        "Let's load in a small list of emails to perform some data analysis and take a look at it.\n"
      ]
    },
    {
      "cell_type": "code",
      "metadata": {
        "colab": {
          "base_uri": "https://localhost:8080/",
          "height": 348
        },
        "id": "YGSpu0hGMxuB",
        "outputId": "1a4158dd-b68a-4f2b-f577-d5cf7e6150f6"
      },
      "source": [
        "email_df <- read.csv(\"https://ibm.box.com/shared/static/cbim8daa5vjf5rf4rlz11330lvqbu7rk.csv\")\n",
        "email_df"
      ],
      "execution_count": 1,
      "outputs": [
        {
          "output_type": "display_data",
          "data": {
            "text/plain": [
              "  Name         Email             \n",
              "1 John Doe     doej@example.com  \n",
              "2 Jane Doe     jadoe@sample.ca   \n",
              "3 Mark Mann    mmann@example.ca  \n",
              "4 Barry Goode  bgoode@example.com\n",
              "5 Joe Star     joes@sample.com   \n",
              "6 Susan Quinn  qsus@example.br   \n",
              "7 Alice Erin   erina@example.com \n",
              "8 Frank Irving irving@sample.com "
            ],
            "text/latex": "A data.frame: 8 × 2\n\\begin{tabular}{ll}\n Name & Email\\\\\n <chr> & <chr>\\\\\n\\hline\n\t John Doe     & doej@example.com  \\\\\n\t Jane Doe     & jadoe@sample.ca   \\\\\n\t Mark Mann    & mmann@example.ca  \\\\\n\t Barry Goode  & bgoode@example.com\\\\\n\t Joe Star     & joes@sample.com   \\\\\n\t Susan Quinn  & qsus@example.br   \\\\\n\t Alice Erin   & erina@example.com \\\\\n\t Frank Irving & irving@sample.com \\\\\n\\end{tabular}\n",
            "text/markdown": "\nA data.frame: 8 × 2\n\n| Name &lt;chr&gt; | Email &lt;chr&gt; |\n|---|---|\n| John Doe     | doej@example.com   |\n| Jane Doe     | jadoe@sample.ca    |\n| Mark Mann    | mmann@example.ca   |\n| Barry Goode  | bgoode@example.com |\n| Joe Star     | joes@sample.com    |\n| Susan Quinn  | qsus@example.br    |\n| Alice Erin   | erina@example.com  |\n| Frank Irving | irving@sample.com  |\n\n",
            "text/html": [
              "<table class=\"dataframe\">\n",
              "<caption>A data.frame: 8 × 2</caption>\n",
              "<thead>\n",
              "\t<tr><th scope=col>Name</th><th scope=col>Email</th></tr>\n",
              "\t<tr><th scope=col>&lt;chr&gt;</th><th scope=col>&lt;chr&gt;</th></tr>\n",
              "</thead>\n",
              "<tbody>\n",
              "\t<tr><td>John Doe    </td><td>doej@example.com  </td></tr>\n",
              "\t<tr><td>Jane Doe    </td><td>jadoe@sample.ca   </td></tr>\n",
              "\t<tr><td>Mark Mann   </td><td>mmann@example.ca  </td></tr>\n",
              "\t<tr><td>Barry Goode </td><td>bgoode@example.com</td></tr>\n",
              "\t<tr><td>Joe Star    </td><td>joes@sample.com   </td></tr>\n",
              "\t<tr><td>Susan Quinn </td><td>qsus@example.br   </td></tr>\n",
              "\t<tr><td>Alice Erin  </td><td>erina@example.com </td></tr>\n",
              "\t<tr><td>Frank Irving</td><td>irving@sample.com </td></tr>\n",
              "</tbody>\n",
              "</table>\n"
            ]
          },
          "metadata": {}
        }
      ]
    },
    {
      "cell_type": "markdown",
      "metadata": {
        "id": "uzO_-cpwMxuD"
      },
      "source": [
        "So our simple dataset contains a list of names and a list of their corresponding emails. Let's say we want to simply count the frequency of email domains. But several problems arise before we can even attempt this. If we attempt to simply count the email column, we won't end up with what we want since every email is unique. And if we split the string at the '@', we still won't have what we want since even emails with the same domains might have different regional extensions. So how can we easily extract the necessary data in a quick and easy way?\n"
      ]
    },
    {
      "cell_type": "markdown",
      "metadata": {
        "id": "Hgy__oz9MxuE"
      },
      "source": [
        "<a id=\"funyarinpa\"></a>\n",
        "\n",
        "# Regular Expressions\n"
      ]
    },
    {
      "cell_type": "markdown",
      "metadata": {
        "id": "7ryY_qtUMxuE"
      },
      "source": [
        "Regular Expressions are generic expressions that are used to match patterns in strings and text. A way we can exemplify this is with a simple expression that can match with an email string. But before we write it, let's look at how an email is structured:\n",
        "\n",
        "<code>$[test@testing.com]$</code>\n",
        "\n",
        "So, an email is composed by a string followed by an '@' symbol followed by another string. In R regular expressions, we can express this as:\n",
        "\n",
        "<code>$.+@.+$</code>\n",
        "\n",
        "Where:\n",
        "\n",
        "-   The '.' symbol matches with any character.\n",
        "-   The '+' symbol repeats the previous symbol one or more times. So, '.+' will match with any string.\n",
        "-   The '@' symbol only matches with the '@' character.\n",
        "\n",
        "Now, for our problem, which is extracting the domain from an email excluding the regional url code, we need an expression that specifically matches with what we want:\n",
        "\n",
        "<code>$@.+\\\\.$</code>\n",
        "\n",
        "Where the <code>'\\\\.'</code> symbol specifically matches with the '.' character.\n"
      ]
    },
    {
      "cell_type": "markdown",
      "metadata": {
        "id": "IFm39mrCMxuF"
      },
      "source": [
        "<a id=\"imyourpoutine\"></a>\n",
        "\n",
        "# Regular Expressions in R\n"
      ]
    },
    {
      "cell_type": "markdown",
      "metadata": {
        "id": "15Nj-FNhMxuG"
      },
      "source": [
        "Now let's look at some R functions that work with R functions.\n",
        "\n",
        "The grep function below takes in a Regular Expression and a list of strings to search through and returns the positions of where they appear in the list.\n"
      ]
    },
    {
      "cell_type": "code",
      "metadata": {
        "scrolled": true,
        "colab": {
          "base_uri": "https://localhost:8080/",
          "height": 33
        },
        "id": "l76ZQmZyMxuG",
        "outputId": "712e0c54-1fee-4009-af09-0c8331b99aa8"
      },
      "source": [
        "grep(\"@.+\",  c(\"test@testing.com\" , \"not an email\", \"test2@testing.com\"))"
      ],
      "execution_count": 2,
      "outputs": [
        {
          "output_type": "display_data",
          "data": {
            "text/plain": [
              "[1] 1 3"
            ],
            "text/latex": "\\begin{enumerate*}\n\\item 1\n\\item 3\n\\end{enumerate*}\n",
            "text/markdown": "1. 1\n2. 3\n\n\n",
            "text/html": [
              "<style>\n",
              ".list-inline {list-style: none; margin:0; padding: 0}\n",
              ".list-inline>li {display: inline-block}\n",
              ".list-inline>li:not(:last-child)::after {content: \"\\00b7\"; padding: 0 .5ex}\n",
              "</style>\n",
              "<ol class=list-inline><li>1</li><li>3</li></ol>\n"
            ]
          },
          "metadata": {}
        }
      ]
    },
    {
      "cell_type": "markdown",
      "metadata": {
        "id": "ebH-iPbvMxuG"
      },
      "source": [
        "Grep also has an extra parameter called 'value' that changes the output to display the strings instead of the list positions. \n"
      ]
    },
    {
      "cell_type": "code",
      "metadata": {
        "colab": {
          "base_uri": "https://localhost:8080/",
          "height": 33
        },
        "id": "Pf_hQ6aNMxuH",
        "outputId": "8a26e188-c46b-489e-dc3a-6c6ccbf19cc8"
      },
      "source": [
        "grep(\"@.+\",  c(\"test@testing.com\", \"not an email\", \"test2@testing.com\"), value=TRUE)"
      ],
      "execution_count": 3,
      "outputs": [
        {
          "output_type": "display_data",
          "data": {
            "text/plain": [
              "[1] \"test@testing.com\"  \"test2@testing.com\""
            ],
            "text/latex": "\\begin{enumerate*}\n\\item 'test@testing.com'\n\\item 'test2@testing.com'\n\\end{enumerate*}\n",
            "text/markdown": "1. 'test@testing.com'\n2. 'test2@testing.com'\n\n\n",
            "text/html": [
              "<style>\n",
              ".list-inline {list-style: none; margin:0; padding: 0}\n",
              ".list-inline>li {display: inline-block}\n",
              ".list-inline>li:not(:last-child)::after {content: \"\\00b7\"; padding: 0 .5ex}\n",
              "</style>\n",
              "<ol class=list-inline><li>'test@testing.com'</li><li>'test2@testing.com'</li></ol>\n"
            ]
          },
          "metadata": {}
        }
      ]
    },
    {
      "cell_type": "markdown",
      "metadata": {
        "id": "t4awnQskMxuH"
      },
      "source": [
        "The next function, 'gsub', is a substitution function. It takes in a Regular Expression, the string you want to swap in with the matches and a list of strings you want to perform the swap with. The code cell below updates valid emails with a new domain:\n"
      ]
    },
    {
      "cell_type": "code",
      "metadata": {
        "colab": {
          "base_uri": "https://localhost:8080/",
          "height": 33
        },
        "id": "4L_MEUJ3MxuH",
        "outputId": "e45a5eb5-d10e-4aa1-dd7c-b0c91e03fc68"
      },
      "source": [
        "gsub(\"@.+\", \"@newdomain.com\", c(\"test@testing.com\", \"not an email\", \"test2@testing.com\"))"
      ],
      "execution_count": 4,
      "outputs": [
        {
          "output_type": "display_data",
          "data": {
            "text/plain": [
              "[1] \"test@newdomain.com\"  \"not an email\"        \"test2@newdomain.com\""
            ],
            "text/latex": "\\begin{enumerate*}\n\\item 'test@newdomain.com'\n\\item 'not an email'\n\\item 'test2@newdomain.com'\n\\end{enumerate*}\n",
            "text/markdown": "1. 'test@newdomain.com'\n2. 'not an email'\n3. 'test2@newdomain.com'\n\n\n",
            "text/html": [
              "<style>\n",
              ".list-inline {list-style: none; margin:0; padding: 0}\n",
              ".list-inline>li {display: inline-block}\n",
              ".list-inline>li:not(:last-child)::after {content: \"\\00b7\"; padding: 0 .5ex}\n",
              "</style>\n",
              "<ol class=list-inline><li>'test@newdomain.com'</li><li>'not an email'</li><li>'test2@newdomain.com'</li></ol>\n"
            ]
          },
          "metadata": {}
        }
      ]
    },
    {
      "cell_type": "markdown",
      "metadata": {
        "id": "yqdT1PyKMxuI"
      },
      "source": [
        "The functions below, 'regexpr' and 'regmatches', work in conjunction to extract the matches found by a regular expression specified in 'regexpr'.\n"
      ]
    },
    {
      "cell_type": "code",
      "metadata": {
        "colab": {
          "base_uri": "https://localhost:8080/",
          "height": 33
        },
        "id": "y5fQr1oqMxuI",
        "outputId": "1b84049c-6d5d-4151-cda3-1e0da8d951e1"
      },
      "source": [
        "matches <- regexpr(\"@.*\", c(\"test@testing.com\", \"not an email\", \"test2@testing.com\"))\n",
        "matches"
      ],
      "execution_count": 5,
      "outputs": [
        {
          "output_type": "display_data",
          "data": {
            "text/plain": [
              "[1]  5 -1  6\n",
              "attr(,\"match.length\")\n",
              "[1] 12 -1 12\n",
              "attr(,\"index.type\")\n",
              "[1] \"chars\"\n",
              "attr(,\"useBytes\")\n",
              "[1] TRUE"
            ],
            "text/latex": "\\begin{enumerate*}\n\\item 5\n\\item -1\n\\item 6\n\\end{enumerate*}\n",
            "text/markdown": "1. 5\n2. -1\n3. 6\n\n\n",
            "text/html": [
              "<style>\n",
              ".list-inline {list-style: none; margin:0; padding: 0}\n",
              ".list-inline>li {display: inline-block}\n",
              ".list-inline>li:not(:last-child)::after {content: \"\\00b7\"; padding: 0 .5ex}\n",
              "</style>\n",
              "<ol class=list-inline><li>5</li><li>-1</li><li>6</li></ol>\n"
            ]
          },
          "metadata": {}
        }
      ]
    },
    {
      "cell_type": "code",
      "metadata": {
        "colab": {
          "base_uri": "https://localhost:8080/",
          "height": 33
        },
        "id": "-VXkkG4FMxuI",
        "outputId": "eb321151-d0eb-4c92-d145-2a42acf1fdbe"
      },
      "source": [
        "regmatches(c(\"test@testing.com\", \"not an email\", \"test2@testing.com\"), matches)"
      ],
      "execution_count": 6,
      "outputs": [
        {
          "output_type": "display_data",
          "data": {
            "text/plain": [
              "[1] \"@testing.com\" \"@testing.com\""
            ],
            "text/latex": "\\begin{enumerate*}\n\\item '@testing.com'\n\\item '@testing.com'\n\\end{enumerate*}\n",
            "text/markdown": "1. '@testing.com'\n2. '@testing.com'\n\n\n",
            "text/html": [
              "<style>\n",
              ".list-inline {list-style: none; margin:0; padding: 0}\n",
              ".list-inline>li {display: inline-block}\n",
              ".list-inline>li:not(:last-child)::after {content: \"\\00b7\"; padding: 0 .5ex}\n",
              "</style>\n",
              "<ol class=list-inline><li>'@testing.com'</li><li>'@testing.com'</li></ol>\n"
            ]
          },
          "metadata": {}
        }
      ]
    },
    {
      "cell_type": "markdown",
      "metadata": {
        "id": "Pk6hJzAzMxuI"
      },
      "source": [
        "This function is actually perfect for our problem since we simply need to extract the specific information we want. So let's use it with the Regular Expression we defined above and store the extracted strings in a new column in our dataframe.\n"
      ]
    },
    {
      "cell_type": "code",
      "metadata": {
        "id": "LD9j_bC2MxuJ"
      },
      "source": [
        "matches <- regexpr(\"@.*\\\\.\", email_df[,'Email'])\n",
        "email_df[,'Domain'] = regmatches(email_df[,'Email'], matches)"
      ],
      "execution_count": 7,
      "outputs": []
    },
    {
      "cell_type": "markdown",
      "metadata": {
        "id": "zsOvGBmfMxuJ"
      },
      "source": [
        "And this is the resulting dataframe:\n"
      ]
    },
    {
      "cell_type": "code",
      "metadata": {
        "colab": {
          "base_uri": "https://localhost:8080/",
          "height": 348
        },
        "id": "Yvq_bV3yMxuJ",
        "outputId": "f14d25ab-706a-46a1-fa2c-b71fedf3c6ee"
      },
      "source": [
        "email_df"
      ],
      "execution_count": 8,
      "outputs": [
        {
          "output_type": "display_data",
          "data": {
            "text/plain": [
              "  Name         Email              Domain   \n",
              "1 John Doe     doej@example.com   @example.\n",
              "2 Jane Doe     jadoe@sample.ca    @sample. \n",
              "3 Mark Mann    mmann@example.ca   @example.\n",
              "4 Barry Goode  bgoode@example.com @example.\n",
              "5 Joe Star     joes@sample.com    @sample. \n",
              "6 Susan Quinn  qsus@example.br    @example.\n",
              "7 Alice Erin   erina@example.com  @example.\n",
              "8 Frank Irving irving@sample.com  @sample. "
            ],
            "text/latex": "A data.frame: 8 × 3\n\\begin{tabular}{lll}\n Name & Email & Domain\\\\\n <chr> & <chr> & <chr>\\\\\n\\hline\n\t John Doe     & doej@example.com   & @example.\\\\\n\t Jane Doe     & jadoe@sample.ca    & @sample. \\\\\n\t Mark Mann    & mmann@example.ca   & @example.\\\\\n\t Barry Goode  & bgoode@example.com & @example.\\\\\n\t Joe Star     & joes@sample.com    & @sample. \\\\\n\t Susan Quinn  & qsus@example.br    & @example.\\\\\n\t Alice Erin   & erina@example.com  & @example.\\\\\n\t Frank Irving & irving@sample.com  & @sample. \\\\\n\\end{tabular}\n",
            "text/markdown": "\nA data.frame: 8 × 3\n\n| Name &lt;chr&gt; | Email &lt;chr&gt; | Domain &lt;chr&gt; |\n|---|---|---|\n| John Doe     | doej@example.com   | @example. |\n| Jane Doe     | jadoe@sample.ca    | @sample.  |\n| Mark Mann    | mmann@example.ca   | @example. |\n| Barry Goode  | bgoode@example.com | @example. |\n| Joe Star     | joes@sample.com    | @sample.  |\n| Susan Quinn  | qsus@example.br    | @example. |\n| Alice Erin   | erina@example.com  | @example. |\n| Frank Irving | irving@sample.com  | @sample.  |\n\n",
            "text/html": [
              "<table class=\"dataframe\">\n",
              "<caption>A data.frame: 8 × 3</caption>\n",
              "<thead>\n",
              "\t<tr><th scope=col>Name</th><th scope=col>Email</th><th scope=col>Domain</th></tr>\n",
              "\t<tr><th scope=col>&lt;chr&gt;</th><th scope=col>&lt;chr&gt;</th><th scope=col>&lt;chr&gt;</th></tr>\n",
              "</thead>\n",
              "<tbody>\n",
              "\t<tr><td>John Doe    </td><td>doej@example.com  </td><td>@example.</td></tr>\n",
              "\t<tr><td>Jane Doe    </td><td>jadoe@sample.ca   </td><td>@sample. </td></tr>\n",
              "\t<tr><td>Mark Mann   </td><td>mmann@example.ca  </td><td>@example.</td></tr>\n",
              "\t<tr><td>Barry Goode </td><td>bgoode@example.com</td><td>@example.</td></tr>\n",
              "\t<tr><td>Joe Star    </td><td>joes@sample.com   </td><td>@sample. </td></tr>\n",
              "\t<tr><td>Susan Quinn </td><td>qsus@example.br   </td><td>@example.</td></tr>\n",
              "\t<tr><td>Alice Erin  </td><td>erina@example.com </td><td>@example.</td></tr>\n",
              "\t<tr><td>Frank Irving</td><td>irving@sample.com </td><td>@sample. </td></tr>\n",
              "</tbody>\n",
              "</table>\n"
            ]
          },
          "metadata": {}
        }
      ]
    },
    {
      "cell_type": "markdown",
      "metadata": {
        "id": "JeC9-4THMxuJ"
      },
      "source": [
        "Now we can finally construct the frequency table for the domains in our dataframe!\n"
      ]
    },
    {
      "cell_type": "code",
      "metadata": {
        "colab": {
          "base_uri": "https://localhost:8080/",
          "height": 68
        },
        "id": "JCf7l2F8MxuJ",
        "outputId": "d5bfac2d-62bd-45c7-f6c9-cf3ab89f6d34"
      },
      "source": [
        "table(email_df[,'Domain'])"
      ],
      "execution_count": 9,
      "outputs": [
        {
          "output_type": "display_data",
          "data": {
            "text/plain": [
              "\n",
              "@example.  @sample. \n",
              "        5         3 "
            ]
          },
          "metadata": {}
        }
      ]
    },
    {
      "cell_type": "markdown",
      "metadata": {
        "id": "sHI7qvq7MxuK"
      },
      "source": [
        "<hr>\n"
      ]
    },
    {
      "cell_type": "markdown",
      "metadata": {
        "id": "vc3HIG9UMxuK"
      },
      "source": [
        "#### Scaling R with big data\n",
        "\n",
        "As you learn more about R, if you are interested in exploring platforms that can help you run analyses at scale, you might want to sign up for a free account on [IBM Watson Studio](http://cocl.us/dsx_rp0101en), which allows you to run analyses in R with two Spark executors for free.\n"
      ]
    },
    {
      "cell_type": "markdown",
      "metadata": {
        "id": "R6mnfJkXMxuK"
      },
      "source": [
        "<hr>\n"
      ]
    },
    {
      "cell_type": "markdown",
      "metadata": {
        "id": "U5lgZRdHMxuK"
      },
      "source": [
        "#### Author: Gabriel Sousa\n"
      ]
    },
    {
      "cell_type": "markdown",
      "metadata": {
        "id": "j5OPGyV3MxuK"
      },
      "source": [
        "<hr>\n",
        "\n",
        "Copyright © [IBM Cognitive Class](https://cognitiveclass.ai?cm_mmc=Email_Newsletter-_-Developer_Ed%2BTech-_-WW_WW-_-SkillsNetwork-Courses-IBMDeveloperSkillsNetwork-RP0101EN-SkillsNetwork-20900564&cm_mmca1=000026UJ&cm_mmca2=10006555&cm_mmca3=M12345678&cvosrc=email.Newsletter.M12345678&cvo_campaign=000026UJ&cm_mmc=Email_Newsletter-_-Developer_Ed%2BTech-_-WW_WW-_-SkillsNetwork-Courses-IBMDeveloperSkillsNetwork-RP0101EN-SkillsNetwork-20900564&cm_mmca1=000026UJ&cm_mmca2=10006555&cm_mmca3=M12345678&cvosrc=email.Newsletter.M12345678&cvo_campaign=000026UJ&cm_mmc=Email_Newsletter-_-Developer_Ed%2BTech-_-WW_WW-_-SkillsNetwork-Courses-IBMDeveloperSkillsNetwork-RP0101EN-SkillsNetwork-20900564&cm_mmca1=000026UJ&cm_mmca2=10006555&cm_mmca3=M12345678&cvosrc=email.Newsletter.M12345678&cvo_campaign=000026UJ&cm_mmc=Email_Newsletter-_-Developer_Ed%2BTech-_-WW_WW-_-SkillsNetwork-Courses-IBMDeveloperSkillsNetwork-RP0101EN-SkillsNetwork-20900564&cm_mmca1=000026UJ&cm_mmca2=10006555&cm_mmca3=M12345678&cvosrc=email.Newsletter.M12345678&cvo_campaign=000026UJ). This notebook and its source code are released under the terms of the [MIT License](https://cognitiveclass.ai/mit-license?cm_mmc=Email_Newsletter-_-Developer_Ed%2BTech-_-WW_WW-_-SkillsNetwork-Courses-IBMDeveloperSkillsNetwork-RP0101EN-SkillsNetwork-20900564&cm_mmca1=000026UJ&cm_mmca2=10006555&cm_mmca3=M12345678&cvosrc=email.Newsletter.M12345678&cvo_campaign=000026UJ&cm_mmc=Email_Newsletter-_-Developer_Ed%2BTech-_-WW_WW-_-SkillsNetwork-Courses-IBMDeveloperSkillsNetwork-RP0101EN-SkillsNetwork-20900564&cm_mmca1=000026UJ&cm_mmca2=10006555&cm_mmca3=M12345678&cvosrc=email.Newsletter.M12345678&cvo_campaign=000026UJ).\n"
      ]
    }
  ]
}